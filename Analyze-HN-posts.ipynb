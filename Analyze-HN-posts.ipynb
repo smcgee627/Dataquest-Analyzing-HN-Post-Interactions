{
 "cells": [
  {
   "cell_type": "markdown",
   "metadata": {
    "collapsed": true
   },
   "source": [
    "# HackerNews Post Interactions and Popularity\n",
    "\n",
    "This project will explore a dataset of HackerNews (HN) posts, comparing two types of posts and their popularity on the website; \"Ask HN\" and \"Show HN\" posts. Ask HN posts are user-submitted posts that ask the community a specific question, including personal projects, technical issues, and current events. Show HN posts are submissions that show a project, a product, or other interesting related links.\n",
    "\n",
    "Specifically, this project compares these two types to determine:\n",
    "\n",
    "* Which of Ask HN or Show HN posts receive more comments on average?\n",
    "\n",
    "* Do posts created at certain times receive more comments on average?\n",
    "\n",
    "These data for the analyses are derived from a truncated version of a larger data set of 300,000 posts, wherein the present version consists of 20,000 rows by first removing all submissions that did not receive any comments, and then randomly sampling from the remaining submissions."
   ]
  },
  {
   "cell_type": "code",
   "execution_count": 1,
   "metadata": {},
   "outputs": [
    {
     "data": {
      "text/plain": [
       "[['id', 'title', 'url', 'num_points', 'num_comments', 'author', 'created_at'],\n",
       " ['12224879',\n",
       "  'Interactive Dynamic Video',\n",
       "  'http://www.interactivedynamicvideo.com/',\n",
       "  '386',\n",
       "  '52',\n",
       "  'ne0phyte',\n",
       "  '8/4/2016 11:52'],\n",
       " ['10975351',\n",
       "  'How to Use Open Source and Shut the Fuck Up at the Same Time',\n",
       "  'http://hueniverse.com/2016/01/26/how-to-use-open-source-and-shut-the-fuck-up-at-the-same-time/',\n",
       "  '39',\n",
       "  '10',\n",
       "  'josep2',\n",
       "  '1/26/2016 19:30'],\n",
       " ['11964716',\n",
       "  \"Florida DJs May Face Felony for April Fools' Water Joke\",\n",
       "  'http://www.thewire.com/entertainment/2013/04/florida-djs-april-fools-water-joke/63798/',\n",
       "  '2',\n",
       "  '1',\n",
       "  'vezycash',\n",
       "  '6/23/2016 22:20'],\n",
       " ['11919867',\n",
       "  'Technology ventures: From Idea to Enterprise',\n",
       "  'https://www.amazon.com/Technology-Ventures-Enterprise-Thomas-Byers/dp/0073523429',\n",
       "  '3',\n",
       "  '1',\n",
       "  'hswarna',\n",
       "  '6/17/2016 0:01']]"
      ]
     },
     "execution_count": 1,
     "metadata": {},
     "output_type": "execute_result"
    }
   ],
   "source": [
    "# Read in hacker_news.csv dataset\n",
    "import csv\n",
    "opened_file = open('hacker_news.csv')\n",
    "hn = list(csv.reader(opened_file))\n",
    "\n",
    "# Display first 5 rows of hn\n",
    "hn[:5]"
   ]
  },
  {
   "cell_type": "markdown",
   "metadata": {},
   "source": [
    "The variables collected in these data and their index in column order are;\n",
    "\n",
    "* id [0]; The unique post identifier\n",
    "\n",
    "* title [1]; The post's written title on HN\n",
    "\n",
    "* url [2]; The URL that the post links to, if applicable\n",
    "\n",
    "* num_points [3]; The number of points acquired, measured as the total number of upvotes / likes minus the total number of downvotes / dislikes\n",
    "\n",
    "* num_comments [4]; The total number of comments on the post\n",
    "\n",
    "* author [5]; The username of the original poster / submittor of the post\n",
    "\n",
    "* created_at [6]; The date and time that the post was originally submitted."
   ]
  },
  {
   "cell_type": "code",
   "execution_count": 2,
   "metadata": {},
   "outputs": [
    {
     "data": {
      "text/plain": [
       "[['12224879',\n",
       "  'Interactive Dynamic Video',\n",
       "  'http://www.interactivedynamicvideo.com/',\n",
       "  '386',\n",
       "  '52',\n",
       "  'ne0phyte',\n",
       "  '8/4/2016 11:52'],\n",
       " ['10975351',\n",
       "  'How to Use Open Source and Shut the Fuck Up at the Same Time',\n",
       "  'http://hueniverse.com/2016/01/26/how-to-use-open-source-and-shut-the-fuck-up-at-the-same-time/',\n",
       "  '39',\n",
       "  '10',\n",
       "  'josep2',\n",
       "  '1/26/2016 19:30'],\n",
       " ['11964716',\n",
       "  \"Florida DJs May Face Felony for April Fools' Water Joke\",\n",
       "  'http://www.thewire.com/entertainment/2013/04/florida-djs-april-fools-water-joke/63798/',\n",
       "  '2',\n",
       "  '1',\n",
       "  'vezycash',\n",
       "  '6/23/2016 22:20'],\n",
       " ['11919867',\n",
       "  'Technology ventures: From Idea to Enterprise',\n",
       "  'https://www.amazon.com/Technology-Ventures-Enterprise-Thomas-Byers/dp/0073523429',\n",
       "  '3',\n",
       "  '1',\n",
       "  'hswarna',\n",
       "  '6/17/2016 0:01'],\n",
       " ['10301696',\n",
       "  'Note by Note: The Making of Steinway L1037 (2007)',\n",
       "  'http://www.nytimes.com/2007/11/07/movies/07stein.html?_r=0',\n",
       "  '8',\n",
       "  '2',\n",
       "  'walterbell',\n",
       "  '9/30/2015 4:12']]"
      ]
     },
     "execution_count": 2,
     "metadata": {},
     "output_type": "execute_result"
    }
   ],
   "source": [
    "# extract header row and remove from hn data set\n",
    "headers = hn[:1]\n",
    "hn = hn[1:]\n",
    "hn[:5]"
   ]
  },
  {
   "cell_type": "markdown",
   "metadata": {},
   "source": [
    "## Filter data to retain only Show HN and Ask HN posts\n",
    "\n",
    "In order to address our research questions, we need to filter our HN data sets into separate subsets; ask_posts, show_posts, and other_posts for all unrelated data."
   ]
  },
  {
   "cell_type": "code",
   "execution_count": 3,
   "metadata": {},
   "outputs": [
    {
     "name": "stdout",
     "output_type": "stream",
     "text": [
      "1744\n",
      "1162\n",
      "18938\n"
     ]
    }
   ],
   "source": [
    "ask_posts = []\n",
    "show_posts =[]\n",
    "other_posts = []\n",
    "\n",
    "# loop through hn and copy posts to their appropriate list\n",
    "\n",
    "for row in hn:\n",
    "    title = row[1]\n",
    "    if title.lower().startswith('ask hn'):\n",
    "        ask_posts.append(row)\n",
    "    if title.lower().startswith('show hn'):\n",
    "        show_posts.append(row)\n",
    "    else:\n",
    "        other_posts.append(row)\n",
    "        \n",
    "# check length of each new data set to determine number of posts\n",
    "print(len(ask_posts))\n",
    "print(len(show_posts))\n",
    "print(len(other_posts))"
   ]
  },
  {
   "cell_type": "markdown",
   "metadata": {},
   "source": [
    "## Determine which of Ask HN or Show HN posts receive more comments on average\n",
    "\n",
    "With the data filtered into separate lists to identify the relevant post-types for our research questions, we can determine the average comments by post-type."
   ]
  },
  {
   "cell_type": "code",
   "execution_count": 4,
   "metadata": {},
   "outputs": [
    {
     "name": "stdout",
     "output_type": "stream",
     "text": [
      "Average Ask HN comments:  14.0384\n",
      "Average Show HN comments:  10.3167\n"
     ]
    }
   ],
   "source": [
    "total_ask_comments = 0\n",
    "total_show_comments = 0\n",
    "\n",
    "# iterate over both data sets and count the total number of comments\n",
    "for post in ask_posts:\n",
    "    total_ask_comments += int(post[4])\n",
    "    \n",
    "for post in show_posts:\n",
    "    total_show_comments += int(post[4])\n",
    "    \n",
    "avg_ask_comments = (total_ask_comments / len(ask_posts))\n",
    "print(\"Average Ask HN comments: \",round(avg_ask_comments,4))\n",
    "avg_show_comments = (total_show_comments / len(show_posts))\n",
    "print(\"Average Show HN comments: \",round(avg_show_comments,4))"
   ]
  },
  {
   "cell_type": "markdown",
   "metadata": {},
   "source": [
    "On average, Ask HN posts receive 14 comments per post, while Show HN posts receive 10 comments per post."
   ]
  },
  {
   "cell_type": "markdown",
   "metadata": {},
   "source": [
    "## Determine if posts submitted at certain times receive more comments than others\n",
    "\n",
    "Focusing first on Ask HN posts, we will use the associated data set to determine if posts made during certain times of day receive more comments on average than others."
   ]
  },
  {
   "cell_type": "code",
   "execution_count": 5,
   "metadata": {},
   "outputs": [],
   "source": [
    "import datetime as dt\n",
    "\n",
    "# create empty list to store post information\n",
    "result_list_ask = []\n",
    "\n",
    "# iterate over ask_posts to isolate submission time and number of comments\n",
    "for post in ask_posts:\n",
    "    submitted_time = post[6]\n",
    "    comments = int(post[4])\n",
    "    result_list_ask.append([submitted_time, comments])"
   ]
  },
  {
   "cell_type": "markdown",
   "metadata": {},
   "source": [
    "Calculate the number of posts per hour as well as the comments per hour, in order to get the average comments per post by hour."
   ]
  },
  {
   "cell_type": "code",
   "execution_count": 6,
   "metadata": {},
   "outputs": [],
   "source": [
    "# create dictionaries to store pertinent data\n",
    "counts_by_hour_ask = {}\n",
    "comments_by_hour_ask = {}\n",
    "# standard date format for timestamps on posts\n",
    "date_format = '%m/%d/%Y %H:%M'\n",
    "\n",
    "# iterate through result_list_ask and assign values to relevant dictionary\n",
    "for post in result_list_ask:\n",
    "    timestamp = post[0]\n",
    "    comments = post[1]\n",
    "    hour = dt.datetime.strptime(timestamp,date_format).strftime('%H')\n",
    "    if hour not in counts_by_hour_ask:\n",
    "        counts_by_hour_ask[hour] = 1\n",
    "        comments_by_hour_ask[hour] = comments\n",
    "    else:\n",
    "        counts_by_hour_ask[hour] += 1\n",
    "        comments_by_hour_ask[hour] += comments"
   ]
  },
  {
   "cell_type": "markdown",
   "metadata": {},
   "source": [
    "Calculate average comments per post by hour for Ask HN posts"
   ]
  },
  {
   "cell_type": "code",
   "execution_count": 7,
   "metadata": {},
   "outputs": [],
   "source": [
    "avg_by_hour_ask = []\n",
    "for hour in comments_by_hour_ask:\n",
    "    avg_by_hour_ask.append([hour,\n",
    "                            comments_by_hour_ask[hour]/counts_by_hour_ask[hour]])\n",
    "\n",
    "# avg_by_hour_ask"
   ]
  },
  {
   "cell_type": "code",
   "execution_count": 8,
   "metadata": {},
   "outputs": [
    {
     "name": "stdout",
     "output_type": "stream",
     "text": [
      "Top 5 Hours for Ask HN Posts Comments\n",
      "15:00: 38.59 average comments per post.\n",
      "02:00: 23.81 average comments per post.\n",
      "20:00: 21.52 average comments per post.\n",
      "16:00: 16.80 average comments per post.\n",
      "21:00: 16.01 average comments per post.\n"
     ]
    }
   ],
   "source": [
    "swap_avg_by_hour_ask = []\n",
    "for hour in avg_by_hour_ask:\n",
    "    swap_avg_by_hour_ask.append([hour[1], hour[0]])\n",
    "sorted_avg_ask = sorted(swap_avg_by_hour_ask, reverse = True)\n",
    "\n",
    "print('Top 5 Hours for Ask HN Posts Comments')\n",
    "\n",
    "for avg, hr in sorted_avg_ask[:5]:\n",
    "    print(\n",
    "    '{}: {:.2f} average comments per post.'.format(\n",
    "    dt.datetime.strptime(hr, '%H').strftime('%H:%M'),avg))"
   ]
  },
  {
   "cell_type": "markdown",
   "metadata": {},
   "source": [
    "For Ask HN posts, the three best hours to make a post are 15:00 (3PM EST), 02:00 (2AM EST), and 20:00 (8PM EST) in order to have the most opportunity to engage with other users through comments.\n",
    "\n",
    "We now repeat this with Show HN posts, to see if overall user engagement is highest at these times, or if there may be an interaction with the post-type an hour to explore."
   ]
  },
  {
   "cell_type": "code",
   "execution_count": 9,
   "metadata": {},
   "outputs": [
    {
     "name": "stdout",
     "output_type": "stream",
     "text": [
      "Top 5 Hours for Show HN Posts Comments\n",
      "18:00: 15.77 average comments per post.\n",
      "00:00: 15.71 average comments per post.\n",
      "14:00: 13.44 average comments per post.\n",
      "23:00: 12.42 average comments per post.\n",
      "22:00: 12.39 average comments per post.\n"
     ]
    }
   ],
   "source": [
    "result_list_show = []\n",
    "for post in show_posts:\n",
    "    submitted_time = post[6]\n",
    "    comments = int(post[4])\n",
    "    result_list_show.append([submitted_time, comments])\n",
    "counts_by_hour_show = {}\n",
    "comments_by_hour_show = {}\n",
    "for post in result_list_show:\n",
    "    timestamp = post[0]\n",
    "    comments = post[1]\n",
    "    hour = dt.datetime.strptime(timestamp,date_format).strftime('%H')\n",
    "    if hour not in counts_by_hour_show:\n",
    "        counts_by_hour_show[hour] = 1\n",
    "        comments_by_hour_show[hour] = comments\n",
    "    else:\n",
    "        counts_by_hour_show[hour] += 1\n",
    "        comments_by_hour_show[hour] += comments\n",
    "avg_by_hour_show = []\n",
    "for hour in comments_by_hour_show:\n",
    "    avg_by_hour_show.append([hour,\n",
    "                            comments_by_hour_show[hour]/counts_by_hour_show[hour]])\n",
    "swap_avg_by_hour_show = []\n",
    "for hour in avg_by_hour_show:\n",
    "    swap_avg_by_hour_show.append([hour[1], hour[0]])\n",
    "sorted_avg_show = sorted(swap_avg_by_hour_show, reverse = True)\n",
    "\n",
    "print('Top 5 Hours for Show HN Posts Comments')\n",
    "\n",
    "for avg, hr in sorted_avg_show[:5]:\n",
    "    print(\n",
    "    '{}: {:.2f} average comments per post.'.format(\n",
    "    dt.datetime.strptime(hr, '%H').strftime('%H:%M'),avg))"
   ]
  },
  {
   "cell_type": "markdown",
   "metadata": {},
   "source": [
    "For Show HN posts, the posts with the most comments were submitted at 18:00 (6PM EST), 00:00 (12AM EST), and 14:00 (2PM EST)."
   ]
  },
  {
   "cell_type": "markdown",
   "metadata": {},
   "source": [
    "## Conclusions, Insights, and Recommendations\n",
    "\n",
    "The most popular kind of posts, in terms of average comments per post, were Ask HN posts. For these post-types, the best times to submit were 3PM EST, 2AM EST, and 8PM EST, ordered by most average comments per post. Show HN posts had a different list of top hours to improve chances of post interaction, with the top three times being 6PM EST, 12AM EST, and 2PM EST.\n",
    "\n",
    "It appears that the best hours for user comment interactions would be 2-4PM EST, with Ask HN posts being most likely to generate user comments at 3PM. Following this, there seems to be similarly high user traffic and interaction between 6PM-9PM EST, with Ask HN posts again having the highest average comments per post around 3PM EST.\n",
    "\n",
    "This might be related to the nature of Ask HN posts, which are directly interacting with and engaging the HN community and sourcing content from the users themselves. Show HN on the other hand is providing content to the HN community and attempting to get responses to that. It may be beneficial for posts trying to get the most user interaction through comments to pose Ask HN questions that allow many users to contribute their knowledge, experience, or opinions, rather than aksing more technical questions that require expertise, specialized skills, or niche experiences. On the other hand, these kinds of posts could be generating interest due to the unique questions posed, and further analysis of the content of the most-commented Ask HN posts could investigate this interaction further."
   ]
  }
 ],
 "metadata": {
  "kernelspec": {
   "display_name": "Python 3",
   "language": "python",
   "name": "python3"
  },
  "language_info": {
   "codemirror_mode": {
    "name": "ipython",
    "version": 3
   },
   "file_extension": ".py",
   "mimetype": "text/x-python",
   "name": "python",
   "nbconvert_exporter": "python",
   "pygments_lexer": "ipython3",
   "version": "3.8.2"
  }
 },
 "nbformat": 4,
 "nbformat_minor": 2
}
